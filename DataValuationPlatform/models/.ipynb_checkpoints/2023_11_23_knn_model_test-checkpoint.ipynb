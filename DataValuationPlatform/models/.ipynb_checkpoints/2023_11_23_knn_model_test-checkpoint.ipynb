{
 "cells": [
  {
   "cell_type": "code",
   "execution_count": 1,
   "id": "23d3aaa1",
   "metadata": {},
   "outputs": [
    {
     "name": "stderr",
     "output_type": "stream",
     "text": [
      "[14:38:41] Initializing Normalizer\n"
     ]
    }
   ],
   "source": [
    "from HTSDataPreprocessor import HTSDataPreprocessor"
   ]
  },
  {
   "cell_type": "code",
   "execution_count": 2,
   "id": "0d9e4db3",
   "metadata": {},
   "outputs": [
    {
     "name": "stderr",
     "output_type": "stream",
     "text": [
      "2023-11-23 14:38:42.277641: I tensorflow/core/platform/cpu_feature_guard.cc:182] This TensorFlow binary is optimized to use available CPU instructions in performance-critical operations.\n",
      "To enable the following instructions: AVX2 FMA, in other operations, rebuild TensorFlow with the appropriate compiler flags.\n",
      "2023-11-23 14:38:42.898003: W tensorflow/compiler/tf2tensorrt/utils/py_utils.cc:38] TF-TRT Warning: Could not find TensorRT\n"
     ]
    }
   ],
   "source": [
    "from model_class import Model"
   ]
  },
  {
   "cell_type": "code",
   "execution_count": 3,
   "id": "c4547aa8",
   "metadata": {},
   "outputs": [],
   "source": [
    "from knn_shapley.KNN_Shapley_model import KNN_Shapley"
   ]
  },
  {
   "cell_type": "code",
   "execution_count": 4,
   "id": "806b9455",
   "metadata": {},
   "outputs": [],
   "source": [
    "knn = KNN_Shapley()"
   ]
  },
  {
   "cell_type": "code",
   "execution_count": 5,
   "id": "5ec1a7e7",
   "metadata": {},
   "outputs": [
    {
     "name": "stdout",
     "output_type": "stream",
     "text": [
      "INFO:root:Processed datasets loaded successfully for GPCR_3\n",
      "INFO:root:Processed datasets loaded successfully for GPCR_2\n",
      "INFO:root:ecfp loaded successfully for GPCR_3\n",
      "INFO:root:ecfp loaded successfully for GPCR_2\n"
     ]
    }
   ],
   "source": [
    "dataset_names = [\"GPCR_3\", \"GPCR_2\"]\n",
    "preprocessor = HTSDataPreprocessor(dataset_names)\n",
    "preprocessor.load_preprocessed_data()\n",
    "preprocessor.load_precalculated_descriptors(\"ecfp\")\n",
    "gpcr3 = preprocessor.get_dataset(\"GPCR_3\")\n",
    "gpcr2 = preprocessor.get_dataset(\"GPCR_2\")"
   ]
  },
  {
   "cell_type": "code",
   "execution_count": 18,
   "id": "98b92fc1",
   "metadata": {
    "scrolled": true
   },
   "outputs": [],
   "source": [
    "results_fp = knn.apply_false_positive_identification(gpcr2)"
   ]
  },
  {
   "cell_type": "code",
   "execution_count": 19,
   "id": "6609dedd",
   "metadata": {},
   "outputs": [
    {
     "name": "stdout",
     "output_type": "stream",
     "text": [
      "Fitting LightGBM in run 0 and replicate 0\n",
      "Fitting time:  0.2141408920288086\n",
      "Predicting LightGBM in run  0\n",
      "Fitting time:  0.06157946586608887\n",
      "Fitting LightGBM in run 0 and replicate 1\n",
      "Fitting time:  0.2160942554473877\n",
      "Predicting LightGBM in run  0\n",
      "Fitting time:  0.060929059982299805\n",
      "Fitting LightGBM in run 0 and replicate 2\n",
      "Fitting time:  0.21581196784973145\n",
      "Predicting LightGBM in run  0\n",
      "Fitting time:  0.06224179267883301\n",
      "Fitting LightGBM in run 0 and replicate 3\n",
      "Fitting time:  0.2151045799255371\n",
      "Predicting LightGBM in run  0\n",
      "Fitting time:  0.06067514419555664\n",
      "Fitting LightGBM in run 0 and replicate 4\n",
      "Fitting time:  0.2156505584716797\n",
      "Predicting LightGBM in run  0\n",
      "Fitting time:  0.06287050247192383\n",
      "Fitting LightGBM in run 0 and replicate 0\n",
      "Fitting time:  0.24029016494750977\n",
      "Predicting LightGBM in run  0\n",
      "Fitting time:  0.059203386306762695\n",
      "Fitting LightGBM in run 0 and replicate 1\n",
      "Fitting time:  0.24257302284240723\n",
      "Predicting LightGBM in run  0\n",
      "Fitting time:  0.06253361701965332\n",
      "Fitting LightGBM in run 0 and replicate 2\n",
      "Fitting time:  0.24068498611450195\n",
      "Predicting LightGBM in run  0\n",
      "Fitting time:  0.062305450439453125\n",
      "Fitting LightGBM in run 0 and replicate 3\n",
      "Fitting time:  0.24105405807495117\n",
      "Predicting LightGBM in run  0\n",
      "Fitting time:  0.05940532684326172\n",
      "Fitting LightGBM in run 0 and replicate 4\n",
      "Fitting time:  0.2409512996673584\n",
      "Predicting LightGBM in run  0\n",
      "Fitting time:  0.06044745445251465\n",
      "Fitting LightGBM in run 0 and replicate 0\n",
      "Fitting time:  0.24643683433532715\n",
      "Predicting LightGBM in run  0\n",
      "Fitting time:  0.05526542663574219\n",
      "Fitting LightGBM in run 0 and replicate 1\n",
      "Fitting time:  0.2472374439239502\n",
      "Predicting LightGBM in run  0\n",
      "Fitting time:  0.055524587631225586\n",
      "Fitting LightGBM in run 0 and replicate 2\n",
      "Fitting time:  0.24569320678710938\n",
      "Predicting LightGBM in run  0\n",
      "Fitting time:  0.05614328384399414\n",
      "Fitting LightGBM in run 0 and replicate 3\n",
      "Fitting time:  0.2465834617614746\n",
      "Predicting LightGBM in run  0\n",
      "Fitting time:  0.05287647247314453\n",
      "Fitting LightGBM in run 0 and replicate 4\n",
      "Fitting time:  0.24963784217834473\n",
      "Predicting LightGBM in run  0\n",
      "Fitting time:  0.05649161338806152\n",
      "Fitting LightGBM in run 0 and replicate 0\n",
      "Fitting time:  0.2581629753112793\n",
      "Predicting LightGBM in run  0\n",
      "Fitting time:  0.05227303504943848\n",
      "Fitting LightGBM in run 0 and replicate 1\n",
      "Fitting time:  0.26188087463378906\n",
      "Predicting LightGBM in run  0\n",
      "Fitting time:  0.05430936813354492\n",
      "Fitting LightGBM in run 0 and replicate 2\n",
      "Fitting time:  0.2614462375640869\n",
      "Predicting LightGBM in run  0\n",
      "Fitting time:  0.052463531494140625\n",
      "Fitting LightGBM in run 0 and replicate 3\n",
      "Fitting time:  0.26300668716430664\n",
      "Predicting LightGBM in run  0\n",
      "Fitting time:  0.05563187599182129\n",
      "Fitting LightGBM in run 0 and replicate 4\n",
      "Fitting time:  0.2694873809814453\n",
      "Predicting LightGBM in run  0\n",
      "Fitting time:  0.05268383026123047\n",
      "Fitting LightGBM in run 0 and replicate 0\n",
      "Fitting time:  0.2843668460845947\n",
      "Predicting LightGBM in run  0\n",
      "Fitting time:  0.06873011589050293\n",
      "Fitting LightGBM in run 0 and replicate 1\n",
      "Fitting time:  0.28426051139831543\n",
      "Predicting LightGBM in run  0\n",
      "Fitting time:  0.056488990783691406\n",
      "Fitting LightGBM in run 0 and replicate 2\n",
      "Fitting time:  0.2774465084075928\n",
      "Predicting LightGBM in run  0\n",
      "Fitting time:  0.04990696907043457\n",
      "Fitting LightGBM in run 0 and replicate 3\n",
      "Fitting time:  0.27847909927368164\n",
      "Predicting LightGBM in run  0\n",
      "Fitting time:  0.04967164993286133\n",
      "Fitting LightGBM in run 0 and replicate 4\n",
      "Fitting time:  0.279433012008667\n",
      "Predicting LightGBM in run  0\n",
      "Fitting time:  0.04908633232116699\n",
      "Fitting LightGBM in run 0 and replicate 0\n",
      "Fitting time:  0.28967881202697754\n",
      "Predicting LightGBM in run  0\n",
      "Fitting time:  0.048140764236450195\n",
      "Fitting LightGBM in run 0 and replicate 1\n",
      "Fitting time:  0.29155755043029785\n",
      "Predicting LightGBM in run  0\n",
      "Fitting time:  0.05510520935058594\n",
      "Fitting LightGBM in run 0 and replicate 2\n",
      "Fitting time:  0.2998697757720947\n",
      "Predicting LightGBM in run  0\n",
      "Fitting time:  0.0533144474029541\n",
      "Fitting LightGBM in run 0 and replicate 3\n",
      "Fitting time:  0.2974226474761963\n",
      "Predicting LightGBM in run  0\n",
      "Fitting time:  0.050272464752197266\n",
      "Fitting LightGBM in run 0 and replicate 4\n",
      "Fitting time:  0.2934725284576416\n",
      "Predicting LightGBM in run  0\n",
      "Fitting time:  0.0489504337310791\n"
     ]
    }
   ],
   "source": [
    "results_active_learning = knn.apply_active_learning(gpcr2)"
   ]
  },
  {
   "cell_type": "code",
   "execution_count": 20,
   "id": "967a2593",
   "metadata": {},
   "outputs": [
    {
     "data": {
      "text/html": [
       "<div>\n",
       "<style scoped>\n",
       "    .dataframe tbody tr th:only-of-type {\n",
       "        vertical-align: middle;\n",
       "    }\n",
       "\n",
       "    .dataframe tbody tr th {\n",
       "        vertical-align: top;\n",
       "    }\n",
       "\n",
       "    .dataframe thead th {\n",
       "        text-align: right;\n",
       "    }\n",
       "</style>\n",
       "<table border=\"1\" class=\"dataframe\">\n",
       "  <thead>\n",
       "    <tr style=\"text-align: right;\">\n",
       "      <th></th>\n",
       "      <th>Time - mean</th>\n",
       "      <th>Time - STD</th>\n",
       "      <th>Time - Replicate 1</th>\n",
       "      <th>FP rate</th>\n",
       "      <th>FP Precision@90 - mean</th>\n",
       "      <th>FP Precision@90 - STD</th>\n",
       "      <th>FP Precision@90 - Replicate 1</th>\n",
       "      <th>TP rate</th>\n",
       "      <th>TP Precision@90 - mean</th>\n",
       "      <th>TP Precision@90 - STD</th>\n",
       "      <th>...</th>\n",
       "      <th>FP BEDROC20 - Replicate 1</th>\n",
       "      <th>TP BEDROC20 - mean</th>\n",
       "      <th>TP BEDROC20 - STD</th>\n",
       "      <th>TP BEDROC20 - Replicate 1</th>\n",
       "      <th>FP Scaffold- mean</th>\n",
       "      <th>FP Scaffold - STD</th>\n",
       "      <th>FP Scaffold - Replicate 1</th>\n",
       "      <th>TP Scaffold- mean</th>\n",
       "      <th>TP Scaffold - STD</th>\n",
       "      <th>TP Scaffold - Replicate 1</th>\n",
       "    </tr>\n",
       "  </thead>\n",
       "  <tbody>\n",
       "    <tr>\n",
       "      <th>GPCR_2</th>\n",
       "      <td>1.059949</td>\n",
       "      <td>0.0</td>\n",
       "      <td>1.059949</td>\n",
       "      <td>0.838469</td>\n",
       "      <td>0.88</td>\n",
       "      <td>0.0</td>\n",
       "      <td>0.88</td>\n",
       "      <td>0.161531</td>\n",
       "      <td>0.324561</td>\n",
       "      <td>0.0</td>\n",
       "      <td>...</td>\n",
       "      <td>0.879235</td>\n",
       "      <td>0.416966</td>\n",
       "      <td>0.0</td>\n",
       "      <td>0.416966</td>\n",
       "      <td>86.096257</td>\n",
       "      <td>0.0</td>\n",
       "      <td>86.096257</td>\n",
       "      <td>79.144385</td>\n",
       "      <td>0.0</td>\n",
       "      <td>79.144385</td>\n",
       "    </tr>\n",
       "  </tbody>\n",
       "</table>\n",
       "<p>1 rows × 29 columns</p>\n",
       "</div>"
      ],
      "text/plain": [
       "        Time - mean  Time - STD  Time - Replicate 1   FP rate   \n",
       "GPCR_2     1.059949         0.0            1.059949  0.838469  \\\n",
       "\n",
       "        FP Precision@90 - mean  FP Precision@90 - STD   \n",
       "GPCR_2                    0.88                    0.0  \\\n",
       "\n",
       "        FP Precision@90 - Replicate 1   TP rate  TP Precision@90 - mean   \n",
       "GPCR_2                           0.88  0.161531                0.324561  \\\n",
       "\n",
       "        TP Precision@90 - STD  ...  FP BEDROC20 - Replicate 1   \n",
       "GPCR_2                    0.0  ...                   0.879235  \\\n",
       "\n",
       "        TP BEDROC20 - mean  TP BEDROC20 - STD  TP BEDROC20 - Replicate 1   \n",
       "GPCR_2            0.416966                0.0                   0.416966  \\\n",
       "\n",
       "        FP Scaffold- mean  FP Scaffold - STD  FP Scaffold - Replicate 1   \n",
       "GPCR_2          86.096257                0.0                  86.096257  \\\n",
       "\n",
       "        TP Scaffold- mean  TP Scaffold - STD  TP Scaffold - Replicate 1  \n",
       "GPCR_2          79.144385                0.0                  79.144385  \n",
       "\n",
       "[1 rows x 29 columns]"
      ]
     },
     "execution_count": 20,
     "metadata": {},
     "output_type": "execute_result"
    }
   ],
   "source": [
    "results_fp[0]"
   ]
  },
  {
   "cell_type": "code",
   "execution_count": 21,
   "id": "10719d1b",
   "metadata": {},
   "outputs": [
    {
     "data": {
      "text/plain": [
       "[25, 61, 108, 129, 148, 182, 213]"
      ]
     },
     "execution_count": 21,
     "metadata": {},
     "output_type": "execute_result"
    }
   ],
   "source": [
    "results_active_learning"
   ]
  },
  {
   "cell_type": "code",
   "execution_count": null,
   "id": "6db3ba6c",
   "metadata": {},
   "outputs": [],
   "source": []
  }
 ],
 "metadata": {
  "kernelspec": {
   "display_name": "datascope",
   "language": "python",
   "name": "datascope"
  },
  "language_info": {
   "codemirror_mode": {
    "name": "ipython",
    "version": 3
   },
   "file_extension": ".py",
   "mimetype": "text/x-python",
   "name": "python",
   "nbconvert_exporter": "python",
   "pygments_lexer": "ipython3",
   "version": "3.8.5"
  }
 },
 "nbformat": 4,
 "nbformat_minor": 5
}
