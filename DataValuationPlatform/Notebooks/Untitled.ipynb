{
 "cells": [
  {
   "cell_type": "code",
   "execution_count": 1,
   "id": "2cbfa966",
   "metadata": {},
   "outputs": [
    {
     "name": "stderr",
     "output_type": "stream",
     "text": [
      "[10:58:17] Initializing Normalizer\n",
      "2023-12-14 10:58:18.405170: I tensorflow/stream_executor/platform/default/dso_loader.cc:49] Successfully opened dynamic library libcudart.so.11.0\n",
      "2023-12-14 10:58:20.401735: I tensorflow/compiler/jit/xla_cpu_device.cc:41] Not creating XLA devices, tf_xla_enable_xla_devices not set\n",
      "2023-12-14 10:58:20.402367: I tensorflow/stream_executor/platform/default/dso_loader.cc:49] Successfully opened dynamic library libcuda.so.1\n",
      "2023-12-14 10:58:20.468655: I tensorflow/stream_executor/cuda/cuda_gpu_executor.cc:1038] successful NUMA node read from SysFS had negative value (-1), but there must be at least one NUMA node, so returning NUMA node zero\n",
      "2023-12-14 10:58:20.468841: I tensorflow/core/common_runtime/gpu/gpu_device.cc:1747] Found device 0 with properties: \n",
      "pciBusID: 0000:01:00.0 name: NVIDIA GeForce RTX 3080 computeCapability: 8.6\n",
      "coreClock: 1.71GHz coreCount: 68 deviceMemorySize: 9.77GiB deviceMemoryBandwidth: 707.88GiB/s\n",
      "2023-12-14 10:58:20.468901: I tensorflow/stream_executor/cuda/cuda_gpu_executor.cc:1038] successful NUMA node read from SysFS had negative value (-1), but there must be at least one NUMA node, so returning NUMA node zero\n",
      "2023-12-14 10:58:20.469044: I tensorflow/core/common_runtime/gpu/gpu_device.cc:1747] Found device 1 with properties: \n",
      "pciBusID: 0000:21:00.0 name: NVIDIA GeForce RTX 3080 computeCapability: 8.6\n",
      "coreClock: 1.71GHz coreCount: 68 deviceMemorySize: 9.77GiB deviceMemoryBandwidth: 707.88GiB/s\n",
      "2023-12-14 10:58:20.469069: I tensorflow/stream_executor/platform/default/dso_loader.cc:49] Successfully opened dynamic library libcudart.so.11.0\n",
      "2023-12-14 10:58:20.471682: I tensorflow/stream_executor/platform/default/dso_loader.cc:49] Successfully opened dynamic library libcublas.so.11\n",
      "2023-12-14 10:58:20.471716: I tensorflow/stream_executor/platform/default/dso_loader.cc:49] Successfully opened dynamic library libcublasLt.so.11\n",
      "2023-12-14 10:58:20.472335: I tensorflow/stream_executor/platform/default/dso_loader.cc:49] Successfully opened dynamic library libcufft.so.10\n",
      "2023-12-14 10:58:20.472482: I tensorflow/stream_executor/platform/default/dso_loader.cc:49] Successfully opened dynamic library libcurand.so.10\n",
      "2023-12-14 10:58:20.472835: I tensorflow/stream_executor/platform/default/dso_loader.cc:49] Successfully opened dynamic library libcusolver.so.11\n",
      "2023-12-14 10:58:20.473385: I tensorflow/stream_executor/platform/default/dso_loader.cc:49] Successfully opened dynamic library libcusparse.so.11\n",
      "2023-12-14 10:58:20.473469: I tensorflow/stream_executor/platform/default/dso_loader.cc:49] Successfully opened dynamic library libcudnn.so.8\n",
      "2023-12-14 10:58:20.473555: I tensorflow/stream_executor/cuda/cuda_gpu_executor.cc:1038] successful NUMA node read from SysFS had negative value (-1), but there must be at least one NUMA node, so returning NUMA node zero\n",
      "2023-12-14 10:58:20.473756: I tensorflow/stream_executor/cuda/cuda_gpu_executor.cc:1038] successful NUMA node read from SysFS had negative value (-1), but there must be at least one NUMA node, so returning NUMA node zero\n",
      "2023-12-14 10:58:20.473931: I tensorflow/stream_executor/cuda/cuda_gpu_executor.cc:1038] successful NUMA node read from SysFS had negative value (-1), but there must be at least one NUMA node, so returning NUMA node zero\n",
      "2023-12-14 10:58:20.474107: I tensorflow/stream_executor/cuda/cuda_gpu_executor.cc:1038] successful NUMA node read from SysFS had negative value (-1), but there must be at least one NUMA node, so returning NUMA node zero\n",
      "2023-12-14 10:58:20.474234: I tensorflow/core/common_runtime/gpu/gpu_device.cc:1889] Adding visible gpu devices: 0, 1\n",
      "2023-12-14 10:58:20.480725: I tensorflow/compiler/jit/xla_gpu_device.cc:99] Not creating XLA devices, tf_xla_enable_xla_devices not set\n",
      "2023-12-14 10:58:20.480850: I tensorflow/stream_executor/cuda/cuda_gpu_executor.cc:1038] successful NUMA node read from SysFS had negative value (-1), but there must be at least one NUMA node, so returning NUMA node zero\n",
      "2023-12-14 10:58:20.481003: I tensorflow/core/common_runtime/gpu/gpu_device.cc:1747] Found device 0 with properties: \n",
      "pciBusID: 0000:21:00.0 name: NVIDIA GeForce RTX 3080 computeCapability: 8.6\n",
      "coreClock: 1.71GHz coreCount: 68 deviceMemorySize: 9.77GiB deviceMemoryBandwidth: 707.88GiB/s\n",
      "2023-12-14 10:58:20.481037: I tensorflow/stream_executor/platform/default/dso_loader.cc:49] Successfully opened dynamic library libcudart.so.11.0\n",
      "2023-12-14 10:58:20.481054: I tensorflow/stream_executor/platform/default/dso_loader.cc:49] Successfully opened dynamic library libcublas.so.11\n",
      "2023-12-14 10:58:20.481068: I tensorflow/stream_executor/platform/default/dso_loader.cc:49] Successfully opened dynamic library libcublasLt.so.11\n",
      "2023-12-14 10:58:20.481082: I tensorflow/stream_executor/platform/default/dso_loader.cc:49] Successfully opened dynamic library libcufft.so.10\n",
      "2023-12-14 10:58:20.481095: I tensorflow/stream_executor/platform/default/dso_loader.cc:49] Successfully opened dynamic library libcurand.so.10\n",
      "2023-12-14 10:58:20.481107: I tensorflow/stream_executor/platform/default/dso_loader.cc:49] Successfully opened dynamic library libcusolver.so.11\n",
      "2023-12-14 10:58:20.481120: I tensorflow/stream_executor/platform/default/dso_loader.cc:49] Successfully opened dynamic library libcusparse.so.11\n",
      "2023-12-14 10:58:20.481132: I tensorflow/stream_executor/platform/default/dso_loader.cc:49] Successfully opened dynamic library libcudnn.so.8\n",
      "2023-12-14 10:58:20.481186: I tensorflow/stream_executor/cuda/cuda_gpu_executor.cc:1038] successful NUMA node read from SysFS had negative value (-1), but there must be at least one NUMA node, so returning NUMA node zero\n",
      "2023-12-14 10:58:20.481362: I tensorflow/stream_executor/cuda/cuda_gpu_executor.cc:1038] successful NUMA node read from SysFS had negative value (-1), but there must be at least one NUMA node, so returning NUMA node zero\n",
      "2023-12-14 10:58:20.481488: I tensorflow/core/common_runtime/gpu/gpu_device.cc:1889] Adding visible gpu devices: 1\n",
      "2023-12-14 10:58:20.481513: I tensorflow/stream_executor/platform/default/dso_loader.cc:49] Successfully opened dynamic library libcudart.so.11.0\n",
      "2023-12-14 10:58:20.760736: I tensorflow/core/common_runtime/gpu/gpu_device.cc:1287] Device interconnect StreamExecutor with strength 1 edge matrix:\n",
      "2023-12-14 10:58:20.760761: I tensorflow/core/common_runtime/gpu/gpu_device.cc:1293]      1 \n",
      "2023-12-14 10:58:20.760766: I tensorflow/core/common_runtime/gpu/gpu_device.cc:1306] 1:   N \n",
      "2023-12-14 10:58:20.760994: I tensorflow/stream_executor/cuda/cuda_gpu_executor.cc:1038] successful NUMA node read from SysFS had negative value (-1), but there must be at least one NUMA node, so returning NUMA node zero\n",
      "2023-12-14 10:58:20.761208: I tensorflow/stream_executor/cuda/cuda_gpu_executor.cc:1038] successful NUMA node read from SysFS had negative value (-1), but there must be at least one NUMA node, so returning NUMA node zero\n",
      "2023-12-14 10:58:20.761390: I tensorflow/stream_executor/cuda/cuda_gpu_executor.cc:1038] successful NUMA node read from SysFS had negative value (-1), but there must be at least one NUMA node, so returning NUMA node zero\n",
      "2023-12-14 10:58:20.761539: I tensorflow/core/common_runtime/gpu/gpu_device.cc:1432] Created TensorFlow device (/job:localhost/replica:0/task:0/device:GPU:0 with 8116 MB memory) -> physical GPU (device: 1, name: NVIDIA GeForce RTX 3080, pci bus id: 0000:21:00.0, compute capability: 8.6)\n"
     ]
    }
   ],
   "source": [
    "from DataValuationPlatform import HTSDataPreprocessor, MVSA"
   ]
  },
  {
   "cell_type": "code",
   "execution_count": 2,
   "id": "fe17128b",
   "metadata": {},
   "outputs": [],
   "source": [
    "preprocessor = HTSDataPreprocessor([\"GPCR_3\", \"GPCR_2\", \"GPCR\"])"
   ]
  },
  {
   "cell_type": "code",
   "execution_count": 3,
   "id": "6340160d",
   "metadata": {
    "scrolled": true
   },
   "outputs": [
    {
     "name": "stdout",
     "output_type": "stream",
     "text": [
      "INFO:root:Processed datasets loaded successfully for GPCR_3\n",
      "INFO:root:Processed datasets loaded successfully for GPCR_2\n",
      "INFO:root:Processed datasets loaded successfully for GPCR\n"
     ]
    }
   ],
   "source": [
    "preprocessor.load_preprocessed_data()"
   ]
  },
  {
   "cell_type": "code",
   "execution_count": 4,
   "id": "b4147d2b",
   "metadata": {},
   "outputs": [
    {
     "name": "stdout",
     "output_type": "stream",
     "text": [
      "INFO:root:ECFPs created successfully for GPCR_3\n",
      "INFO:root:ECFPs created successfully for GPCR_2\n",
      "INFO:root:ECFPs created successfully for GPCR\n"
     ]
    }
   ],
   "source": [
    "preprocessor.create_descriptors(descriptor_type = \"ecfp\")"
   ]
  },
  {
   "cell_type": "code",
   "execution_count": 5,
   "id": "4130988d",
   "metadata": {},
   "outputs": [],
   "source": [
    "dataset_gpcr3 = preprocessor.get_dataset(\"GPCR_3\")"
   ]
  },
  {
   "cell_type": "code",
   "execution_count": 6,
   "id": "53c805ff",
   "metadata": {},
   "outputs": [],
   "source": [
    "mvsa_model = MVSA()"
   ]
  },
  {
   "cell_type": "code",
   "execution_count": 15,
   "id": "9737e4df",
   "metadata": {},
   "outputs": [
    {
     "name": "stdout",
     "output_type": "stream",
     "text": [
      "MVSA influence score calculation for 63477 training samples of GPCR_3 done; time in seconds: 1.05\n"
     ]
    }
   ],
   "source": [
    "gpcr3_influence_scores = mvsa_model.calculate_influence(dataset_gpcr3)"
   ]
  },
  {
   "cell_type": "code",
   "execution_count": 7,
   "id": "db7b35c5",
   "metadata": {},
   "outputs": [
    {
     "name": "stdout",
     "output_type": "stream",
     "text": [
      "MVSA influence score calculation for 63477 training samples of GPCR_3 done; time in seconds: 1.05\n",
      "MVSA influence score calculation for 63477 training samples of GPCR_3 done; time in seconds: 1.06\n",
      "MVSA influence score calculation for 63477 training samples of GPCR_3 done; time in seconds: 1.08\n"
     ]
    }
   ],
   "source": [
    "gpcr3_false_positives_mvsa_results,gpcr3_mvsa_logs = mvsa_model.apply_false_positive_identification(dataset = dataset_gpcr3, replicates = 3)"
   ]
  },
  {
   "cell_type": "code",
   "execution_count": 8,
   "id": "9fa0cd91",
   "metadata": {},
   "outputs": [
    {
     "name": "stdout",
     "output_type": "stream",
     "text": [
      "MVSA influence score calculation for 635 training samples of GPCR_3 done; time in seconds: 0.02\n",
      "Fitting GPR sklearn in run 0\n",
      "Fitting time:  0.03746366500854492\n",
      "Predicting GPR in run  0\n",
      "Prediction time:  2.4602303504943848\n",
      "MVSA influence score calculation for 1269 training samples of GPCR_3 done; time in seconds: 0.04\n",
      "Fitting GPR sklearn in run 0\n",
      "Fitting time:  0.1198124885559082\n",
      "Predicting GPR in run  0\n",
      "Prediction time:  3.4953155517578125\n",
      "MVSA influence score calculation for 1903 training samples of GPCR_3 done; time in seconds: 0.07\n",
      "Fitting GPR sklearn in run 0\n",
      "Fitting time:  0.21881699562072754\n",
      "Predicting GPR in run  0\n",
      "Prediction time:  4.950511455535889\n",
      "MVSA influence score calculation for 2537 training samples of GPCR_3 done; time in seconds: 0.08\n",
      "Fitting GPR sklearn in run 0\n",
      "Fitting time:  0.3136260509490967\n",
      "Predicting GPR in run  0\n",
      "Prediction time:  6.959424018859863\n",
      "MVSA influence score calculation for 3171 training samples of GPCR_3 done; time in seconds: 0.1\n",
      "Fitting GPR sklearn in run 0\n",
      "Fitting time:  0.41797780990600586\n",
      "Predicting GPR in run  0\n",
      "Prediction time:  9.40779161453247\n",
      "MVSA influence score calculation for 3805 training samples of GPCR_3 done; time in seconds: 0.09\n",
      "Fitting GPR sklearn in run 0\n",
      "Fitting time:  0.6038079261779785\n",
      "Predicting GPR in run  0\n",
      "Prediction time:  11.145873069763184\n"
     ]
    }
   ],
   "source": [
    "gpcr3_active_learning_mvsa_results = mvsa_model.apply_active_learning(dataset = dataset_gpcr3, step_size = 1, steps = 6, regression_function = \"gpr\", sampling_function = \"greedy\")"
   ]
  },
  {
   "cell_type": "code",
   "execution_count": 10,
   "id": "b7ad9d64",
   "metadata": {},
   "outputs": [
    {
     "name": "stdout",
     "output_type": "stream",
     "text": [
      "MVSA influence score calculation for 63477 training samples of GPCR_3 done; time in seconds: 1.12\n",
      "MVSA influence score calculation for 63477 training samples of GPCR_3 done; time in seconds: 1.05\n",
      "Basic model Validation Performance:  0.9443732221936452\n",
      "High model Validation Performance:  0.9457247177548889\n",
      "Low model Validation Performance:  0.9533733961837447\n",
      "MVSA influence score calculation for 63477 training samples of GPCR_3 done; time in seconds: 0.99\n",
      "MVSA influence score calculation for 63477 training samples of GPCR_3 done; time in seconds: 1.12\n",
      "Basic model Validation Performance:  0.9443732221936452\n",
      "High model Validation Performance:  0.9334913627759931\n",
      "Low model Validation Performance:  0.9499806220986533\n",
      "MVSA influence score calculation for 63477 training samples of GPCR_3 done; time in seconds: 1.03\n",
      "MVSA influence score calculation for 63477 training samples of GPCR_3 done; time in seconds: 1.06\n",
      "Basic model Validation Performance:  0.9443732221936452\n",
      "High model Validation Performance:  0.9466633315838517\n",
      "Low model Validation Performance:  0.9454204178704931\n",
      "MVSA influence score calculation for 63477 training samples of GPCR_3 done; time in seconds: 1.04\n",
      "MVSA influence score calculation for 63477 training samples of GPCR_3 done; time in seconds: 1.01\n",
      "Basic model Validation Performance:  0.9443732221936452\n",
      "High model Validation Performance:  0.9331969882405705\n",
      "Low model Validation Performance:  0.946244354659411\n",
      "MVSA influence score calculation for 63477 training samples of GPCR_3 done; time in seconds: 1.07\n",
      "MVSA influence score calculation for 63477 training samples of GPCR_3 done; time in seconds: 1.05\n",
      "Basic model Validation Performance:  0.9443732221936452\n",
      "High model Validation Performance:  0.935201100617612\n",
      "Low model Validation Performance:  0.9474631550575852\n",
      "MVSA influence score calculation for 63477 training samples of GPCR_3 done; time in seconds: 1.06\n",
      "MVSA influence score calculation for 63477 training samples of GPCR_3 done; time in seconds: 1.04\n",
      "Basic model Validation Performance:  0.9443732221936452\n",
      "High model Validation Performance:  0.9297401411248082\n",
      "Low model Validation Performance:  0.9421091709164982\n",
      "MVSA influence score calculation for 63477 training samples of GPCR_3 done; time in seconds: 1.05\n",
      "MVSA influence score calculation for 63477 training samples of GPCR_3 done; time in seconds: 1.09\n",
      "Basic model Validation Performance:  0.9443732221936452\n",
      "High model Validation Performance:  0.9285451822862254\n",
      "Low model Validation Performance:  0.9352828309056643\n",
      "MVSA influence score calculation for 63477 training samples of GPCR_3 done; time in seconds: 1.05\n",
      "MVSA influence score calculation for 63477 training samples of GPCR_3 done; time in seconds: 1.08\n",
      "Basic model Validation Performance:  0.9443732221936452\n",
      "High model Validation Performance:  0.9230582924349293\n",
      "Low model Validation Performance:  0.9375203606770448\n",
      "MVSA influence score calculation for 63477 training samples of GPCR_3 done; time in seconds: 0.98\n",
      "MVSA influence score calculation for 63477 training samples of GPCR_3 done; time in seconds: 0.96\n",
      "Basic model Validation Performance:  0.9443732221936452\n",
      "High model Validation Performance:  0.9168721040847428\n",
      "Low model Validation Performance:  0.9345863471174816\n",
      "MVSA influence score calculation for 63477 training samples of GPCR_3 done; time in seconds: 1.06\n",
      "MVSA influence score calculation for 63477 training samples of GPCR_3 done; time in seconds: 1.07\n",
      "Basic model Validation Performance:  0.9443732221936452\n",
      "High model Validation Performance:  0.8907822900582761\n",
      "Low model Validation Performance:  0.934725199831559\n",
      "MVSA influence score calculation for 63477 training samples of GPCR_3 done; time in seconds: 1.0\n",
      "MVSA influence score calculation for 63477 training samples of GPCR_3 done; time in seconds: 1.07\n",
      "Basic model Validation Performance:  0.9443732221936452\n",
      "High model Validation Performance:  0.8725672418496393\n",
      "Low model Validation Performance:  0.9291934587487185\n",
      "MVSA influence score calculation for 63477 training samples of GPCR_3 done; time in seconds: 1.08\n",
      "MVSA influence score calculation for 63477 training samples of GPCR_3 done; time in seconds: 1.08\n",
      "Basic model Validation Performance:  0.9443732221936452\n",
      "High model Validation Performance:  0.8224201468401795\n",
      "Low model Validation Performance:  0.9237912530495299\n",
      "MVSA influence score calculation for 63477 training samples of GPCR_3 done; time in seconds: 1.03\n",
      "MVSA influence score calculation for 63477 training samples of GPCR_3 done; time in seconds: 1.09\n",
      "Basic model Validation Performance:  0.9443732221936452\n",
      "High model Validation Performance:  0.7396245792351525\n",
      "Low model Validation Performance:  0.9293269042834338\n",
      "MVSA influence score calculation for 63477 training samples of GPCR_3 done; time in seconds: 0.99\n",
      "MVSA influence score calculation for 63477 training samples of GPCR_3 done; time in seconds: 0.97\n",
      "Basic model Validation Performance:  0.9443732221936452\n",
      "High model Validation Performance:  0.6967218005166249\n",
      "Low model Validation Performance:  0.9208644898696136\n",
      "MVSA influence score calculation for 63477 training samples of GPCR_3 done; time in seconds: 0.97\n",
      "MVSA influence score calculation for 63477 training samples of GPCR_3 done; time in seconds: 0.98\n",
      "Basic model Validation Performance:  0.9443732221936452\n",
      "High model Validation Performance:  0.6748503064686231\n",
      "Low model Validation Performance:  0.9224118450361872\n",
      "MVSA influence score calculation for 63477 training samples of GPCR_3 done; time in seconds: 0.99\n",
      "MVSA influence score calculation for 63477 training samples of GPCR_3 done; time in seconds: 0.98\n",
      "Basic model Validation Performance:  0.9443732221936452\n",
      "High model Validation Performance:  0.6241115378536913\n",
      "Low model Validation Performance:  0.9187498344485018\n",
      "MVSA influence score calculation for 63477 training samples of GPCR_3 done; time in seconds: 1.02\n",
      "MVSA influence score calculation for 63477 training samples of GPCR_3 done; time in seconds: 1.09\n",
      "Basic model Validation Performance:  0.9443732221936452\n",
      "High model Validation Performance:  0.578976527002639\n",
      "Low model Validation Performance:  0.9206224600983823\n",
      "MVSA influence score calculation for 63477 training samples of GPCR_3 done; time in seconds: 0.97\n",
      "MVSA influence score calculation for 63477 training samples of GPCR_3 done; time in seconds: 0.97\n",
      "Basic model Validation Performance:  0.9443732221936452\n",
      "High model Validation Performance:  0.5568144484939738\n",
      "Low model Validation Performance:  0.9032763326579356\n",
      "MVSA influence score calculation for 63477 training samples of GPCR_3 done; time in seconds: 1.0\n",
      "MVSA influence score calculation for 63477 training samples of GPCR_3 done; time in seconds: 0.99\n",
      "Basic model Validation Performance:  0.9443732221936452\n",
      "High model Validation Performance:  0.515781189155947\n",
      "Low model Validation Performance:  0.8869482650445852\n"
     ]
    }
   ],
   "source": [
    "gpcr3_undersampling_mvsa_results = mvsa_model.apply_undersampling(dataset_gpcr3)"
   ]
  },
  {
   "cell_type": "code",
   "execution_count": 12,
   "id": "71b12495",
   "metadata": {},
   "outputs": [
    {
     "name": "stdout",
     "output_type": "stream",
     "text": [
      "[15, 55, 124, 188, 254, 336, 425]\n"
     ]
    }
   ],
   "source": [
    "print(gpcr3_active_learning_mvsa_results)"
   ]
  },
  {
   "cell_type": "code",
   "execution_count": 13,
   "id": "a9058a3b",
   "metadata": {},
   "outputs": [
    {
     "name": "stdout",
     "output_type": "stream",
     "text": [
      "MVSA influence score calculation for 63477 training samples of GPCR_3 done; time in seconds: 1.04\n"
     ]
    }
   ],
   "source": []
  },
  {
   "cell_type": "code",
   "execution_count": 14,
   "id": "6b23ed60",
   "metadata": {},
   "outputs": [
    {
     "data": {
      "text/plain": [
       "array([-4.93886409, -4.52966576, -4.4710075 , ..., -7.07960301,\n",
       "       -4.04389902, -6.54783335])"
      ]
     },
     "execution_count": 14,
     "metadata": {},
     "output_type": "execute_result"
    }
   ],
   "source": [
    "gpcr3_inmportance_scores"
   ]
  },
  {
   "cell_type": "code",
   "execution_count": null,
   "id": "5c9f7eab",
   "metadata": {},
   "outputs": [],
   "source": []
  }
 ],
 "metadata": {
  "kernelspec": {
   "display_name": "Python 3 (ipykernel)",
   "language": "python",
   "name": "python3"
  },
  "language_info": {
   "codemirror_mode": {
    "name": "ipython",
    "version": 3
   },
   "file_extension": ".py",
   "mimetype": "text/x-python",
   "name": "python",
   "nbconvert_exporter": "python",
   "pygments_lexer": "ipython3",
   "version": "3.8.5"
  }
 },
 "nbformat": 4,
 "nbformat_minor": 5
}
